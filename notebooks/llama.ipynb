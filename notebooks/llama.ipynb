{
 "cells": [
  {
   "attachments": {},
   "cell_type": "markdown",
   "metadata": {},
   "source": [
    "## Imports"
   ]
  },
  {
   "cell_type": "code",
   "execution_count": 2,
   "metadata": {},
   "outputs": [],
   "source": [
    "import torch\n",
    "from torch import nn\n",
    "from torch.nn import functional as F\n",
    "from dataclasses import dataclass\n",
    "from typing import List, Tuple, Optional\n",
    "from collections import OrderedDict\n",
    "import time\n",
    "\n",
    "torch.set_printoptions(precision=3, sci_mode=False, linewidth=160)"
   ]
  },
  {
   "attachments": {},
   "cell_type": "markdown",
   "metadata": {},
   "source": [
    "## Topics\n",
    "- RMS Normalization\n",
    "- Rotary Positional Embeddings\n",
    "- KV-Cache\n",
    "- Multi-Query Attention\n",
    "- Grouped Multi-Query Attention\n",
    "- SwiGLU Activation Function"
   ]
  },
  {
   "attachments": {},
   "cell_type": "markdown",
   "metadata": {},
   "source": [
    "<img src=\"assets/LLaMA-Architecture.png\" alt=\"Drawing\" style=\"width: 800px;\"/>"
   ]
  },
  {
   "cell_type": "code",
   "execution_count": 3,
   "metadata": {},
   "outputs": [],
   "source": [
    "@dataclass\n",
    "class LlamaConfig:\n",
    "    vocab_size: int = -1\n",
    "    hidden_size: int = 4096\n",
    "    n_layers: int = 32\n",
    "    n_query_heads: int = 32 # number of attention heads for queries\n",
    "    n_kv_heads: Optional[int] = None # number of attention heads for keys and values\n",
    "    multiple_of: int = 256\n",
    "    ffn_dim_multiplier: Optional[float] = None\n",
    "    intermediate_size: int = 16384\n",
    "    norm_eps: float = 1e-5\n",
    "    dropout: float = 0.1\n",
    "    \n",
    "    max_batch_size: int = 32\n",
    "    max_seq_len: int = 2048\n",
    "    device: str = None"
   ]
  },
  {
   "attachments": {},
   "cell_type": "markdown",
   "metadata": {},
   "source": [
    "### RoPE"
   ]
  },
  {
   "attachments": {},
   "cell_type": "markdown",
   "metadata": {},
   "source": [
    "#### Rotary Positional Embeddings: Combining Absolute and Relative\n",
    "\n",
    "- Introduction\n",
    "  - Discusses the importance of positional embeddings in Transformer models.\n",
    "  \n",
    "- Absolute Positional Embeddings\n",
    "  - Explains how absolute positional embeddings work.\n",
    "  - Highlights limitations like fixed sequence length and lack of relative context.\n",
    "  \n",
    "- Relative Positional Embeddings\n",
    "  - Introduces the concept of relative positional embeddings.\n",
    "  - Discusses the computational challenges and inefficiencies.\n",
    "  \n",
    "- Rotary Positional Embeddings (RoPE)\n",
    "  - Combines the advantages of both absolute and relative embeddings.\n",
    "  - Uses rotation to encode position, preserving relative distances.\n",
    "  \n",
    "- Matrix Formulation\n",
    "  - Explains the mathematical formulation behind RoPE.\n",
    "  \n",
    "- Implementation\n",
    "  - Shows how RoPE can be implemented efficiently in PyTorch.\n",
    "  \n",
    "- Experiments and Conclusion\n",
    "  - Shares results of experiments showing RoPE's effectiveness and efficiency compared to other methods.\n",
    "\n",
    "The video provides a comprehensive overview of Rotary Positional Embeddings, a new method that combines the strengths of both absolute and relative positional embeddings. It delves into the mathematical details and practical implementation, concluding with experimental results that validate its effectiveness."
   ]
  },
  {
   "cell_type": "code",
   "execution_count": 4,
   "metadata": {},
   "outputs": [],
   "source": [
    "theta = 10000.0\n",
    "max_seq_len = 10\n",
    "hidden_size = 14"
   ]
  },
  {
   "attachments": {},
   "cell_type": "markdown",
   "metadata": {},
   "source": [
    "$\\theta_i = 1000^{(-2i) / hidden_size} $"
   ]
  },
  {
   "cell_type": "code",
   "execution_count": 5,
   "metadata": {},
   "outputs": [
    {
     "data": {
      "text/plain": [
       "torch.Size([7])"
      ]
     },
     "execution_count": 5,
     "metadata": {},
     "output_type": "execute_result"
    }
   ],
   "source": [
    "# theta_i = 1000 ^ (-2(i-1) / hidden_size) for i in [1, 2, ..., hidden_size/2]\n",
    "thetas = (1 / theta) ** (torch.arange(0, hidden_size, 2) / hidden_size) #[hidden_size//2, ]\n",
    "thetas.shape"
   ]
  },
  {
   "cell_type": "code",
   "execution_count": 6,
   "metadata": {},
   "outputs": [
    {
     "data": {
      "text/plain": [
       "tensor([    1.000,     0.268,     0.072,     0.019,     0.005,     0.001,     0.000])"
      ]
     },
     "execution_count": 6,
     "metadata": {},
     "output_type": "execute_result"
    }
   ],
   "source": [
    "thetas"
   ]
  },
  {
   "cell_type": "code",
   "execution_count": 7,
   "metadata": {},
   "outputs": [
    {
     "data": {
      "text/plain": [
       "tensor([0, 1, 2, 3, 4, 5, 6, 7, 8, 9])"
      ]
     },
     "execution_count": 7,
     "metadata": {},
     "output_type": "execute_result"
    }
   ],
   "source": [
    "m = torch.arange(max_seq_len)\n",
    "m"
   ]
  },
  {
   "cell_type": "code",
   "execution_count": 8,
   "metadata": {},
   "outputs": [
    {
     "data": {
      "text/plain": [
       "torch.Size([10, 7])"
      ]
     },
     "execution_count": 8,
     "metadata": {},
     "output_type": "execute_result"
    }
   ],
   "source": [
    "m_thetas = torch.outer(m, thetas).float() #[max_seq_len, hidden_size//2]\n",
    "m_thetas.shape"
   ]
  },
  {
   "cell_type": "code",
   "execution_count": 9,
   "metadata": {},
   "outputs": [
    {
     "data": {
      "text/plain": [
       "tensor([[    0.000,     0.000,     0.000,     0.000,     0.000,     0.000,     0.000],\n",
       "        [    1.000,     0.268,     0.072,     0.019,     0.005,     0.001,     0.000],\n",
       "        [    2.000,     0.537,     0.144,     0.039,     0.010,     0.003,     0.001],\n",
       "        [    3.000,     0.805,     0.216,     0.058,     0.016,     0.004,     0.001],\n",
       "        [    4.000,     1.073,     0.288,     0.077,     0.021,     0.006,     0.001],\n",
       "        [    5.000,     1.341,     0.360,     0.097,     0.026,     0.007,     0.002],\n",
       "        [    6.000,     1.610,     0.432,     0.116,     0.031,     0.008,     0.002],\n",
       "        [    7.000,     1.878,     0.504,     0.135,     0.036,     0.010,     0.003],\n",
       "        [    8.000,     2.146,     0.576,     0.154,     0.041,     0.011,     0.003],\n",
       "        [    9.000,     2.414,     0.648,     0.174,     0.047,     0.013,     0.003]])"
      ]
     },
     "execution_count": 9,
     "metadata": {},
     "output_type": "execute_result"
    }
   ],
   "source": [
    "m_thetas"
   ]
  },
  {
   "cell_type": "code",
   "execution_count": 10,
   "metadata": {},
   "outputs": [
    {
     "data": {
      "text/plain": [
       "torch.Size([10, 7])"
      ]
     },
     "execution_count": 10,
     "metadata": {},
     "output_type": "execute_result"
    }
   ],
   "source": [
    "freqs_complex = torch.polar(torch.ones_like(m_thetas), m_thetas)\n",
    "freqs_complex.shape"
   ]
  },
  {
   "cell_type": "code",
   "execution_count": 11,
   "metadata": {},
   "outputs": [
    {
     "data": {
      "text/plain": [
       "tensor([[ 1.000+0.000j,  1.000+0.000j,  1.000+0.000j,  1.000+0.000j,  1.000+0.000j,  1.000+0.000j,  1.000+0.000j],\n",
       "        [ 0.540+0.841j,  0.964+0.265j,  0.997+0.072j,  1.000+0.019j,  1.000+0.005j,  1.000+0.001j,  1.000+0.000j],\n",
       "        [-0.416+0.909j,  0.859+0.511j,  0.990+0.143j,  0.999+0.039j,  1.000+0.010j,  1.000+0.003j,  1.000+0.001j],\n",
       "        [-0.990+0.141j,  0.693+0.721j,  0.977+0.214j,  0.998+0.058j,  1.000+0.016j,  1.000+0.004j,  1.000+0.001j],\n",
       "        [-0.654-0.757j,  0.477+0.879j,  0.959+0.284j,  0.997+0.077j,  1.000+0.021j,  1.000+0.006j,  1.000+0.001j],\n",
       "        [ 0.284-0.959j,  0.227+0.974j,  0.936+0.352j,  0.995+0.096j,  1.000+0.026j,  1.000+0.007j,  1.000+0.002j],\n",
       "        [ 0.960-0.279j, -0.039+0.999j,  0.908+0.419j,  0.993+0.116j,  1.000+0.031j,  1.000+0.008j,  1.000+0.002j],\n",
       "        [ 0.754+0.657j, -0.302+0.953j,  0.876+0.483j,  0.991+0.135j,  0.999+0.036j,  1.000+0.010j,  1.000+0.003j],\n",
       "        [-0.146+0.989j, -0.544+0.839j,  0.839+0.544j,  0.988+0.154j,  0.999+0.041j,  1.000+0.011j,  1.000+0.003j],\n",
       "        [-0.911+0.412j, -0.747+0.665j,  0.797+0.603j,  0.985+0.173j,  0.999+0.047j,  1.000+0.013j,  1.000+0.003j]])"
      ]
     },
     "execution_count": 11,
     "metadata": {},
     "output_type": "execute_result"
    }
   ],
   "source": [
    "freqs_complex"
   ]
  },
  {
   "attachments": {},
   "cell_type": "markdown",
   "metadata": {},
   "source": [
    "### Apply Rotary Positional Embeddings"
   ]
  },
  {
   "cell_type": "code",
   "execution_count": 12,
   "metadata": {},
   "outputs": [
    {
     "data": {
      "text/plain": [
       "(tensor([[[-1.130, -0.038, -0.408,  0.565,  0.456,  2.403, -1.228,  0.225, -0.635,  0.797,  2.449, -0.316,  0.735, -1.491]]]),\n",
       " torch.Size([1, 1, 14]))"
      ]
     },
     "execution_count": 12,
     "metadata": {},
     "output_type": "execute_result"
    }
   ],
   "source": [
    "x = torch.randn(1, 1, hidden_size)\n",
    "x, x.shape"
   ]
  },
  {
   "cell_type": "code",
   "execution_count": 13,
   "metadata": {},
   "outputs": [
    {
     "data": {
      "text/plain": [
       "tensor([[[[-1.130, -0.038],\n",
       "          [-0.408,  0.565],\n",
       "          [ 0.456,  2.403],\n",
       "          [-1.228,  0.225],\n",
       "          [-0.635,  0.797],\n",
       "          [ 2.449, -0.316],\n",
       "          [ 0.735, -1.491]]]])"
      ]
     },
     "execution_count": 13,
     "metadata": {},
     "output_type": "execute_result"
    }
   ],
   "source": [
    "x_reshaped = x.float().view(*x.shape[:-1], -1, 2)\n",
    "x_reshaped"
   ]
  },
  {
   "cell_type": "code",
   "execution_count": 14,
   "metadata": {},
   "outputs": [
    {
     "data": {
      "text/plain": [
       "torch.Size([1, 1, 7, 2])"
      ]
     },
     "execution_count": 14,
     "metadata": {},
     "output_type": "execute_result"
    }
   ],
   "source": [
    "x_reshaped.shape"
   ]
  },
  {
   "cell_type": "code",
   "execution_count": 15,
   "metadata": {},
   "outputs": [
    {
     "data": {
      "text/plain": [
       "tensor([[[-1.130-0.038j, -0.408+0.565j,  0.456+2.403j, -1.228+0.225j, -0.635+0.797j,  2.449-0.316j,  0.735-1.491j]]])"
      ]
     },
     "execution_count": 15,
     "metadata": {},
     "output_type": "execute_result"
    }
   ],
   "source": [
    "x_complex = torch.view_as_complex(x_reshaped)\n",
    "x_complex"
   ]
  },
  {
   "cell_type": "code",
   "execution_count": 16,
   "metadata": {},
   "outputs": [
    {
     "data": {
      "text/plain": [
       "torch.Size([1, 1, 7])"
      ]
     },
     "execution_count": 16,
     "metadata": {},
     "output_type": "execute_result"
    }
   ],
   "source": [
    "x_complex.shape"
   ]
  },
  {
   "cell_type": "code",
   "execution_count": 17,
   "metadata": {},
   "outputs": [
    {
     "data": {
      "text/plain": [
       "tensor([[[[0.540+0.841j, 0.964+0.265j, 0.997+0.072j, 1.000+0.019j, 1.000+0.005j, 1.000+0.001j, 1.000+0.000j]]]])"
      ]
     },
     "execution_count": 17,
     "metadata": {},
     "output_type": "execute_result"
    }
   ],
   "source": [
    "position = 1\n",
    "freq_complex = freqs_complex[position:position+1][None, :, None, ...] # (seq_len, head_dim//2) -> (1, seq_len, 1, head_dim//2)\n",
    "freq_complex"
   ]
  },
  {
   "cell_type": "code",
   "execution_count": 18,
   "metadata": {},
   "outputs": [
    {
     "data": {
      "text/plain": [
       "torch.Size([1, 1, 1, 7])"
      ]
     },
     "execution_count": 18,
     "metadata": {},
     "output_type": "execute_result"
    }
   ],
   "source": [
    "x_rotated = x_complex * freq_complex # (B,seq_len,h,head_dim//2)\n",
    "x_rotated.shape"
   ]
  },
  {
   "cell_type": "code",
   "execution_count": 19,
   "metadata": {},
   "outputs": [
    {
     "data": {
      "text/plain": [
       "tensor([[[[-0.578-0.971j, -0.543+0.436j,  0.282+2.430j, -1.233+0.201j, -0.640+0.793j,  2.450-0.312j,  0.736-1.491j]]]])"
      ]
     },
     "execution_count": 19,
     "metadata": {},
     "output_type": "execute_result"
    }
   ],
   "source": [
    "x_rotated"
   ]
  },
  {
   "cell_type": "code",
   "execution_count": 20,
   "metadata": {},
   "outputs": [
    {
     "data": {
      "text/plain": [
       "tensor([[[[[-0.578, -0.971],\n",
       "           [-0.543,  0.436],\n",
       "           [ 0.282,  2.430],\n",
       "           [-1.233,  0.201],\n",
       "           [-0.640,  0.793],\n",
       "           [ 2.450, -0.312],\n",
       "           [ 0.736, -1.491]]]]])"
      ]
     },
     "execution_count": 20,
     "metadata": {},
     "output_type": "execute_result"
    }
   ],
   "source": [
    "x_real = torch.view_as_real(x_rotated) # (B,seq_len,h,head_dim//2) -> (B, seq_len, h, head_dim//2, 2)\n",
    "x_real"
   ]
  },
  {
   "cell_type": "code",
   "execution_count": 21,
   "metadata": {},
   "outputs": [
    {
     "data": {
      "text/plain": [
       "tensor([[[-0.578, -0.971, -0.543,  0.436,  0.282,  2.430, -1.233,  0.201, -0.640,  0.793,  2.450, -0.312,  0.736, -1.491]]])"
      ]
     },
     "execution_count": 21,
     "metadata": {},
     "output_type": "execute_result"
    }
   ],
   "source": [
    "res = x_real.view(x.shape).type_as(x)\n",
    "res"
   ]
  },
  {
   "cell_type": "code",
   "execution_count": 22,
   "metadata": {},
   "outputs": [
    {
     "data": {
      "text/plain": [
       "(torch.Size([1, 1, 14]), torch.Size([1, 1, 14]))"
      ]
     },
     "execution_count": 22,
     "metadata": {},
     "output_type": "execute_result"
    }
   ],
   "source": [
    "res.shape, x.shape"
   ]
  },
  {
   "attachments": {},
   "cell_type": "markdown",
   "metadata": {},
   "source": [
    "### RMS Normalization"
   ]
  },
  {
   "attachments": {},
   "cell_type": "markdown",
   "metadata": {},
   "source": [
    "Root Mean Square Layer Normalization (RMSNorm) emerges as a refinement over traditional normalization techniques employed in transformer architectures, aiming to address computational overheads while retaining, or even enhancing, the model's performance.  \n",
    "Initially, transformers relied on BatchNormalization, as introduced in Vaswani et al. 2017, but the advent of LLaMA brought RMSNorm to the forefront, offering a more streamlined normalization approach.  \n",
    "\n",
    "The core idea behind RMSNorm is derived from its predecessor, Layer Normalization (LayerNorm), which was noted for its two pivotal properties: re-centering and re-scaling. Re-centering aids in rendering the model robust to shift noises in inputs and weights,  \n",
    "while re-scaling preserves the output representations amidst random scaling of inputs and weights. However, it was recognized that the majority of the benefits stemmed from the re-scaling aspect, which led to the conceptualization of RMSNorm.  \n",
    "\n",
    "RMSNorm, embodying simplicity, omits the re-centering (mean-centering) operation from LayerNorm, focusing solely on the re-scaling invariance. This is achieved by normalizing the summed inputs according to the root mean square (RMS) statistic, expressed as:  \n",
    "$$ \\overline{a}_i = \\frac{a_i}{\\texttt{RMS}}$$ where $$ \\texttt{RMS} = \\sqrt{ \\frac{1}{n}\\sum_{i=1}^n a_i^2} $$  \n",
    "Here, $a_i$ denotes the activation of the ith neuron. By sidestepping the mean computation, RMSNorm not only simplifies the normalization process but also curtails the computational time, marking a significant stride towards efficiency.   \n",
    "\n",
    "This nuanced approach dovetails with the transition from post-normalization to pre-normalization, as observed in LLaMA. Unlike the original Transformer that applied normalization post the attention layer, LLaMA, inspired by GPT-3,   \n",
    "normalizes the input before feeding it to the self-attention and feed-forward layers. RMSNorm serves as the linchpin in this pre-normalization process, ensuring that the neural network's activations are duly regulated before entering the subsequent layers.  \n",
    "\n",
    "The impact of RMSNorm is palpable, with empirical evidence indicating a reduction in running time between 7% to 64% when juxtaposed with LayerNorm, all the while maintaining comparable performance levels. This demonstrates RMSNorm's capability to balance computational   \n",
    "efficiency with performance efficacy, making it a valuable asset in the ongoing evolution of transformer architectures.  "
   ]
  },
  {
   "attachments": {},
   "cell_type": "markdown",
   "metadata": {},
   "source": [
    "<img src=\"assets/RMS-Normalization.png\" alt=\"Drawing\" style=\"width: 800px;\"/>"
   ]
  },
  {
   "cell_type": "code",
   "execution_count": 23,
   "metadata": {},
   "outputs": [],
   "source": [
    "class RMSNorm(nn.Module):\n",
    "\n",
    "    def __init__(self, config: LlamaConfig):\n",
    "        \"\"\"\n",
    "        Root Mean Square Layer Normalization\n",
    "\n",
    "        Args:\n",
    "            config: LlamaConfig\n",
    "        \"\"\"\n",
    "\n",
    "        super().__init__()\n",
    "        self.eps = config.norm_eps\n",
    "        self.register_parameter('scale', nn.Parameter(torch.ones(config.hidden_size)))\n",
    "\n",
    "    def forward(self, x: torch.Tensor) -> torch.Tensor:\n",
    "        # x: (B, seq_len, hidden_size)\n",
    "        x_normed = x * torch.rsqrt(x.pow(2).mean(-1, keepdim=True) + self.eps) # (B,seq_len,hidden_size) * (B,seq_len,1) -> (B,seq_len,hidden_size)\n",
    "        return (self.scale * x_normed).type_as(x) # (hidden_size) * (B,seq_len,hidden_size) -> (B,seq_len,hidden_size)"
   ]
  },
  {
   "cell_type": "code",
   "execution_count": 24,
   "metadata": {},
   "outputs": [
    {
     "data": {
      "text/plain": [
       "(torch.Size([10, 1, 14]), torch.Size([14]))"
      ]
     },
     "execution_count": 24,
     "metadata": {},
     "output_type": "execute_result"
    }
   ],
   "source": [
    "x = torch.randn(10, 1, hidden_size)\n",
    "weight = torch.rand(hidden_size)\n",
    "\n",
    "x.shape, weight.shape"
   ]
  },
  {
   "cell_type": "code",
   "execution_count": 25,
   "metadata": {},
   "outputs": [
    {
     "data": {
      "text/plain": [
       "tensor([[[ 0.504, -1.463, -0.425, -0.583, -1.264,  0.704, -1.060,  2.345, -0.085, -0.532,  1.153, -0.391,  0.668,  0.391]],\n",
       "\n",
       "        [[ 0.074, -1.664,  0.687, -1.206, -0.661,  0.020,  0.506,  0.861, -1.237, -1.634, -1.176, -0.485,  1.366, -0.425]],\n",
       "\n",
       "        [[-1.669, -0.200, -1.376, -0.486, -1.456,  0.302,  0.564,  0.285,  1.166,  0.259,  1.690, -0.332, -0.048,  1.428]],\n",
       "\n",
       "        [[-0.935,  0.575, -1.455,  0.106,  0.166, -0.861, -0.134,  0.637, -2.042, -0.377, -0.890, -1.621,  1.226, -0.494]],\n",
       "\n",
       "        [[ 0.552,  1.407,  0.389,  0.889,  0.699,  0.043, -1.603, -0.388,  0.041,  2.053, -0.263, -1.263, -1.061,  0.747]],\n",
       "\n",
       "        [[-1.165,  0.980,  0.225, -0.881, -1.379,  0.693,  0.401,  0.031, -2.200,  1.415, -0.688, -0.124,  0.505,  0.850]],\n",
       "\n",
       "        [[-2.132,  1.294, -0.105, -0.667, -0.562, -1.021,  1.387,  1.551, -0.330, -0.462,  0.878,  0.426, -0.602, -0.029]],\n",
       "\n",
       "        [[-2.502, -0.479, -1.740, -0.187, -0.360,  1.217,  1.033,  0.414,  0.240,  0.057, -0.475, -0.484,  0.986,  0.322]],\n",
       "\n",
       "        [[ 0.444,  1.921,  0.278, -1.021,  1.277, -0.346, -0.310, -0.431, -1.003, -0.323,  1.007, -0.441,  1.982,  0.845]],\n",
       "\n",
       "        [[ 0.452, -0.669,  1.599,  2.045,  1.265, -0.707,  0.653,  0.251, -0.924, -0.329, -0.443, -0.029,  0.328, -1.659]]])"
      ]
     },
     "execution_count": 25,
     "metadata": {},
     "output_type": "execute_result"
    }
   ],
   "source": [
    "x_normed = x * torch.rsqrt(x.pow(2).mean(-1, keepdim=True) + 1e-6)\n",
    "x_normed"
   ]
  },
  {
   "cell_type": "code",
   "execution_count": 26,
   "metadata": {},
   "outputs": [
    {
     "data": {
      "text/plain": [
       "tensor([[[ 0.089, -1.454, -0.040, -0.459, -0.276,  0.388, -1.046,  1.616, -0.071, -0.154,  0.481, -0.164,  0.502,  0.062]],\n",
       "\n",
       "        [[ 0.013, -1.653,  0.065, -0.949, -0.144,  0.011,  0.500,  0.593, -1.041, -0.474, -0.490, -0.204,  1.026, -0.067]],\n",
       "\n",
       "        [[-0.295, -0.199, -0.131, -0.383, -0.318,  0.166,  0.556,  0.197,  0.981,  0.075,  0.705, -0.139, -0.036,  0.225]],\n",
       "\n",
       "        [[-0.165,  0.571, -0.138,  0.084,  0.036, -0.474, -0.132,  0.439, -1.718, -0.109, -0.371, -0.680,  0.921, -0.078]],\n",
       "\n",
       "        [[ 0.098,  1.398,  0.037,  0.700,  0.153,  0.024, -1.582, -0.267,  0.035,  0.595, -0.110, -0.530, -0.797,  0.118]],\n",
       "\n",
       "        [[-0.206,  0.974,  0.021, -0.694, -0.302,  0.382,  0.395,  0.022, -1.851,  0.410, -0.287, -0.052,  0.379,  0.134]],\n",
       "\n",
       "        [[-0.377,  1.286, -0.010, -0.525, -0.123, -0.563,  1.368,  1.069, -0.278, -0.134,  0.366,  0.179, -0.452, -0.005]],\n",
       "\n",
       "        [[-0.442, -0.476, -0.166, -0.147, -0.079,  0.670,  1.020,  0.285,  0.202,  0.017, -0.198, -0.203,  0.741,  0.051]],\n",
       "\n",
       "        [[ 0.078,  1.909,  0.026, -0.804,  0.279, -0.191, -0.306, -0.297, -0.844, -0.094,  0.420, -0.185,  1.489,  0.133]],\n",
       "\n",
       "        [[ 0.080, -0.665,  0.152,  1.610,  0.277, -0.389,  0.644,  0.173, -0.778, -0.095, -0.185, -0.012,  0.247, -0.262]]])"
      ]
     },
     "execution_count": 26,
     "metadata": {},
     "output_type": "execute_result"
    }
   ],
   "source": [
    "res = weight * x_normed\n",
    "res"
   ]
  },
  {
   "cell_type": "code",
   "execution_count": 27,
   "metadata": {},
   "outputs": [],
   "source": [
    "class RoPEAttentoinHead(nn.Module):\n",
    "    \n",
    "    def __init__(self, config: LlamaConfig) -> None:\n",
    "        super().__init__()\n",
    "        pass"
   ]
  },
  {
   "cell_type": "code",
   "execution_count": 28,
   "metadata": {},
   "outputs": [],
   "source": [
    "class MultiHeadGQAttention(nn.Module):\n",
    "        \n",
    "    def __init__(self, config: LlamaConfig) -> None:\n",
    "        super().__init__()\n",
    "        pass\n",
    "    \n",
    "    def forward(self, x: torch.Tensor) -> torch.Tensor:\n",
    "        # Notation:\n",
    "        #   b - batch size\n",
    "        #   n - sequence length\n",
    "        #   h - number of heads\n",
    "        #   d - embedding dimension\n",
    "        pass"
   ]
  },
  {
   "cell_type": "code",
   "execution_count": 29,
   "metadata": {},
   "outputs": [],
   "source": [
    "class FeedForward(nn.Module):\n",
    "    \n",
    "    def __init__(self, config: LlamaConfig) -> None:\n",
    "        super().__init__()\n",
    "        pass"
   ]
  },
  {
   "cell_type": "code",
   "execution_count": 30,
   "metadata": {},
   "outputs": [],
   "source": [
    "class SelfAttention(nn.Module):\n",
    "    \n",
    "    def __init__(self, config: LlamaConfig) -> None:\n",
    "        super().__init__()\n",
    "        \n",
    "        self.hidden_size = config.hidden_size\n",
    "        self.n_kv_heads = config.n_kv_heads or config.n_query_heads\n",
    "        self.n_query_heads = config.n_query_heads\n",
    "        self.n_replicas = self.n_kv_heads // self.n_query_heads\n",
    "        self.head_dim = self.hidden_size // self.n_query_heads\n",
    "        \n",
    "        self.wq = nn.Linear(self.hidden_size, self.n_query_heads * self.head_dim, bias=False)\n",
    "        self.wk = nn.Linear(self.hidden_size, self.n_kv_heads * self.head_dim, bias=False)\n",
    "        self.wv = nn.Linear(self.hidden_size, self.n_kv_heads * self.head_dim, bias=False)\n",
    "        self.wo = nn.Linear(self.hidden_size, self.hidden_size, bias=False)\n",
    "        \n",
    "        self.cache_key = torch.zeros((config.max_batch_size, config.max_seq_len, self.n_kv_heads, self.head_dim), device=config.device)\n",
    "        self.cache_value = torch.zeros((config.max_batch_size, config.max_seq_len, self.n_kv_heads, self.head_dim), device=config.device)\n",
    "        \n",
    "    def forward(self, x: torch.Tensor, position: int, freqs_complex: torch.Tensor) -> torch.Tensor:\n",
    "        bs, seq_len, _ = x.shape\n",
    "        \n",
    "        q = self.wq(x) # (bs, seq_len, hidden_size) @ (hidden_size, n_query_heads) --> (bs, seq_len, n_query_heads)\n",
    "        k = self.wk(x) # (bs, seq_len, hidden_size) @ (hidden_size, n_kv_heads) --> (bs, seq_len, n_kv_heads)\n",
    "        v = self.wv(x) # (bs, seq_len, hidden_size) @ (hidden_size, n_kv_heads) --> (bs, seq_len, n_kv_heads)\n",
    "        \n",
    "        q = q.transpose(1, 2)\n",
    "        k = k.transpose(1, 2)\n",
    "        v = v.transpose(1, 2)\n",
    "        \n",
    "        q = q.view(bs, seq_len, self.n_query_heads, self.head_dim)\n",
    "        k = k.view(bs, seq_len, self.n_kv_heads, self.head_dim)\n",
    "        v = v.view(bs, seq_len, self.n_kv_heads, self.head_dim)\n",
    "        \n",
    "        q_rotated = self.apply_rotary_embeddings(q, position, freqs_complex)\n",
    "        k_rotated = self.apply_rotary_embeddings(k, position, freqs_complex)\n",
    "        \n",
    "        self.cache_key[:bs, position:position+seq_len] = k_rotated\n",
    "        self.cache_value[:bs, position:position+seq_len] = v\n",
    "        \n",
    "        cache_key = self.cache_key[:bs, :position+seq_len]\n",
    "        cache_value = self.cache_value[:bs, :position+seq_len]\n",
    "        \n",
    "        rep_cache_key = self.repeat_kv(cache_key, self.n_replicas)\n",
    "        rep_cache_value = self.repeat_kv(cache_value, self.n_replicas)\n",
    "        \n",
    "        attn_scores = (q_rotated @ rep_cache_key.transpose(-1, -2)) / self.head_dim ** 0.5\n",
    "        attn_scores = attn_scores.softmax(dim=-1)\n",
    "        weighted_values = attn_scores @ rep_cache_value\n",
    "        \n",
    "        weighted_values = weighted_values.contignous().view(bs, seq_len, -1)\n",
    "        return self.wo(weighted_values)\n",
    "        \n",
    "        \n",
    "        \n",
    "    def apply_rotary_embeddings(self, x: torch.Tensor, position: int, freq_complex: torch.Tensor) -> torch.Tensor:\n",
    "        x_complex = torch.view_as_complex(x.float().view(*x.shape[:-1], -1, 2)) # (B,seq_len,h,head_dim) -> (B,seq_len,h,head_dim//2)\n",
    "        freq_complex = freq_complex[position:position+1][None, :, None, ...] # (seq_len, head_dim//2) -> (1, seq_len, 1, head_dim//2)\n",
    "        x_rotated = x_complex * freq_complex # (B,seq_len,h,head_dim//2)\n",
    "        x_real = torch.view_as_complex(x_rotated) # (B,seq_len,h,head_dim//2) -> (B, seq_len, h, head_dim//2, 2)\n",
    "        return x_real.view(x.shape).type_as(x).to(self.device)\n",
    "    \n",
    "    def repeat_kv(x: torch.Tensor, n_rep: int) -> torch.Tensor:\n",
    "        in_shape = x.shape\n",
    "        if n_rep == 1:\n",
    "            return x\n",
    "        return (x[:, :, None, :] # (bs, seq_len, n_kv_heads, head_dim) -> (bs, seq_len, n_kv_heads, 1, head_dim)\n",
    "                .expand(-1, -1, -1, n_rep, -1)\n",
    "                .reshape(in_shape)) \n",
    "    "
   ]
  },
  {
   "attachments": {},
   "cell_type": "markdown",
   "metadata": {},
   "source": [
    "### SwiGLU"
   ]
  },
  {
   "attachments": {},
   "cell_type": "markdown",
   "metadata": {},
   "source": [
    "The SwiGLU activation function is utilized as a replacement for the ReLU non-linearity, Google’s PaLM and Meta’s LLaMA use it to improve the performance of the FFN (position-wise feed-forward network) layers in the Transformer architecture. SwiGLU is based on the Swish activation function and its formulation is given by:\n",
    "\n",
    "$$\n",
    "\\text{SwiGLU}(x) = \\text{Swish}\\beta (xW + b) \\otimes (xV + c)\n",
    "$$\n",
    "\n",
    "where $ \\beta $ is a learnable parameter, and $ \\otimes $ denotes element-wise multiplication. The Swish function, denoted by $ \\text{Swish}\\beta(x) $, is defined as $ x \\sigma(\\beta x) $, where $ \\sigma $ is the sigmoid function:\n",
    "\n",
    "$$\n",
    "\\text{Swish}(x) = x \\cdot \\sigma(\\beta x)\n",
    "$$\n",
    "\n",
    "and $ \\sigma $ is the sigmoid function defined by:\n",
    "\n",
    "$$\n",
    "\\sigma(x) = \\frac{1}{1 + e^{-x}}\n",
    "$$"
   ]
  },
  {
   "cell_type": "code",
   "execution_count": 31,
   "metadata": {},
   "outputs": [
    {
     "data": {
      "image/png": "[encoded data removed]",
      "text/plain": [
       "<Figure size 640x480 with 1 Axes>"
      ]
     },
     "metadata": {},
     "output_type": "display_data"
    }
   ],
   "source": [
    "import numpy as np\n",
    "import matplotlib.pyplot as plt\n",
    "from scipy.stats import norm\n",
    "\n",
    "def gelu(x):\n",
    "   return x * norm.cdf(x)\n",
    "\n",
    "def relu(x):\n",
    "   return np.maximum(0, x)\n",
    "\n",
    "def swish(x, beta=1):\n",
    "   return x * (1 / (1 + np.exp(-beta * x)))\n",
    "\n",
    "x_values = np.linspace(-5, 5, 500)\n",
    "gelu_values = gelu(x_values)\n",
    "relu_values = relu(x_values)\n",
    "swish_values = swish(x_values)\n",
    "\n",
    "plt.plot(x_values, gelu_values, label='GELU')\n",
    "plt.plot(x_values, relu_values, label='ReLU')\n",
    "plt.plot(x_values, swish_values, label='Swish')\n",
    "plt.title(\"GELU, ReLU, and Swish Activation Functions\")\n",
    "plt.xlabel(\"x\")\n",
    "plt.ylabel(\"Activation\")\n",
    "plt.grid()\n",
    "plt.legend()\n",
    "plt.show()"
   ]
  },
  {
   "attachments": {},
   "cell_type": "markdown",
   "metadata": {},
   "source": [
    "In particular models, the dimensionality of certain layers is adjusted when employing the SwiGLU activation function. The cited adjustment is from $ 4d $ to $ \\frac{2}{3} 4d $, as opposed to the dimensionality used in a model referred to as PaLM【19†source】【20†source】【21†source】【22†source】. This adjustment is in an effort to maintain a constant number of parameters and computational load, despite the use of different activation functions or variants of the Transformer's feed-forward networks (FFN) layers【15†source】.\n",
    "\n",
    "Specifically, in the context of Transformer models, the adjustment in dimensionality accompanies the replacement of ReLU with the SwiGLU activation function in the feed-forward sublayers. This replacement and dimensionality adjustment is part of efforts to explore variants of the Gated Linear Units (GLU) in Transformer models to potentially enhance performance.\n",
    "\n",
    "The SwiGLU activation function and the dimensionality adjustment are part of a broader discussion on enhancing the performance of Transformer models through the exploration of different activation functions and their impact on the model architecture and computational efficiency."
   ]
  },
  {
   "cell_type": "code",
   "execution_count": null,
   "metadata": {},
   "outputs": [],
   "source": []
  },
  {
   "cell_type": "code",
   "execution_count": 32,
   "metadata": {},
   "outputs": [],
   "source": [
    "class FeedForward(nn.Module):\n",
    "    \n",
    "    def __init__(self, config: LlamaConfig) -> None:\n",
    "        super().__init__()\n",
    "        \n",
    "    \n",
    "        hidden_dim = 4 * config.hidden_size\n",
    "        hidden_dim = int(2 * hidden_dim / 3)\n",
    "        # custom dim factor multiplier\n",
    "        if config.ffn_dim_multiplier is not None:\n",
    "            hidden_dim = int(config.ffn_dim_multiplier * hidden_dim)\n",
    "        hidden_dim = config.multiple_of * ((hidden_dim + config.multiple_of - 1) // config.multiple_of)\n",
    "        \n",
    "        self.w1 = nn.Linear(config.hidden_size, hidden_dim, bias=False)\n",
    "        self.w2 = nn.Linear(hidden_dim, config.hidden_size, bias=False)\n",
    "        self.w3 = nn.Linear(config.hidden_size, hidden_dim, bias=False)\n",
    "\n",
    "        \n",
    "    def forward(self, x: torch.Tensor) -> torch.Tensor:\n",
    "        return self.w2(F.silu(self.w1(x)) * self.w3(x))  "
   ]
  },
  {
   "cell_type": "code",
   "execution_count": 33,
   "metadata": {},
   "outputs": [],
   "source": [
    "class LlamaBlock(nn.Module):\n",
    "    \"\"\"\"\"\"\n",
    "    def __init__(self, config: LlamaConfig) -> None:\n",
    "        super().__init__()\n",
    "        \n",
    "        self.hidden_size = config.hidden_size\n",
    "        self.n_heads = config.n_query_heads\n",
    "        self.head_dim = self.hidden_size // self.n_heads # 4096 // 32 = 128\n",
    "        \n",
    "        self.attention = SelfAttention (config)\n",
    "        self.ffn = FeedForward(config)\n",
    "        self.attention_norm = RMSNorm(config)\n",
    "        self.ffn_norm = RMSNorm(config)\n",
    "        \n",
    "    def forward(self, x: torch.Tensor, position: int, freq_complex: torch.Tensor) -> torch.Tensor:\n",
    "        # x: (B, seq_len, hidden_size)\n",
    "        x = x + self.attention(self.attention_norm(x), position, freq_complex) # (B, seq_len, hidden_size)\n",
    "        x = x + self.ffn(self.ffn_norm(x))\n",
    "        return x"
   ]
  },
  {
   "cell_type": "code",
   "execution_count": 34,
   "metadata": {},
   "outputs": [],
   "source": [
    "class LLaMA(nn.Module):\n",
    "    \n",
    "    def __init__(self, config: LlamaConfig) -> None:\n",
    "        super().__init__()\n",
    "        \n",
    "        assert config.vocab_size != -1, 'vocab_size must be specified'\n",
    "\n",
    "        self.device = config.device\n",
    "        \n",
    "        self.embeddings = nn.Embedding(config.vocab_size, config.hidden_size) \n",
    "        self.freq_complex = self._precompute_pos_frequencies(config=config)\n",
    "        self.llama_blocks = nn.Sequential(\n",
    "            OrderedDict([(f\"llama_{i}\", LlamaBlock(config)) for i in range(config.n_layers)])\n",
    "        )\n",
    "        self.rms_norm = RMSNorm(config)\n",
    "        self.head = nn.Linear(config.hidden_size, config.vocab_size, bias=False)\n",
    "\n",
    "    def _precompute_pos_frequencies(self, config: LlamaConfig) -> torch.Tensor:\n",
    "        \"\"\"Precompute positional frequencies for sinusoidal positional embeddings.\"\"\"\n",
    "        \n",
    "        theta = 10000.0\n",
    "        hidden_size = config.hidden_size\n",
    "        max_seq_len = config.max_seq_len * 2\n",
    "        device = config.device\n",
    "        \n",
    "        assert hidden_size % 2 == 0, 'hidden_size must be even: RoPe cannot be appied to odd-dimensional embeddings'\n",
    "        \n",
    "        # theta_i = 1000 ^ (-2(i) / hidden_size) for i in [1, 2, ..., hidden_size/2]\n",
    "        thetas = (1 / theta) ** (torch.arange(0, hidden_size, 2) / hidden_size) #[hidden_size//2, ]\n",
    "        m = torch.arange(max_seq_len, dtype=torch.float) # (max_seq_len, )\n",
    "        freqs = torch.outer(m, thetas) # (max_seq_len, hidden_size/2)\n",
    "        freqs_complex = torch.polar(torch.ones_like(freqs), freqs).to(device) # (max_seq_len, hidden_size/2)\n",
    "        return freqs_complex    \n",
    "    \n",
    "        \n",
    "    def forward(self, input_ids: torch.Tensor, start_position: int, target: torch.Tensor = None) -> torch.Tensor:\n",
    "        # input_ids: (batch_size, seq_len)\n",
    "        bs, seq_len = input_ids.shape\n",
    "        assert seq_len == 1, 'sequence length must be 1'\n",
    "        \n",
    "        token_embeddings = self.embeddings(input_ids) # (batch_size, seq_len, hidden_size): (bs, 1, 4096)\n",
    "        freq_complex = self.freq_complex[start_position:start_position + seq_len] # (batch_size, hidden_size)\n",
    "        \n",
    "        for layer in self.llama_blocks:\n",
    "            token_embeddings = layer(token_embeddings, start_position, freq_complex)\n",
    "        logits = self.head(self.rms_norm(token_embeddings))\n",
    "        \n",
    "        if target is None:\n",
    "            return {'logits': logits}\n",
    "        else:\n",
    "            loss = F.cross_entropy(logits.view(-1, logits.size(-1)), target.view(-1))\n",
    "            return {'logits': logits, 'loss': loss}"
   ]
  },
  {
   "cell_type": "code",
   "execution_count": 35,
   "metadata": {},
   "outputs": [],
   "source": [
    "model = LLaMA(LlamaConfig(vocab_size=32000, device='cpu'))"
   ]
  },
  {
   "cell_type": "code",
   "execution_count": 36,
   "metadata": {},
   "outputs": [],
   "source": [
    "import json\n",
    "import time\n",
    "from tokenizers import Tokenizer\n",
    "from pathlib import Path\n",
    "from sentencepiece import SentencePieceProcessor"
   ]
  },
  {
   "cell_type": "code",
   "execution_count": 37,
   "metadata": {},
   "outputs": [],
   "source": [
    "class LLaMAModel(nn.Module):\n",
    "    \n",
    "    def __init__(self, model: LLaMA) -> None:\n",
    "        super().__init__()\n",
    "        \n",
    "    @staticmethod\n",
    "    def build(\n",
    "        ckpt_dir: str,\n",
    "        tokenizer_path: str,\n",
    "        config_path: str,\n",
    "        max_seq_len: int,\n",
    "        max_batch_size: int,\n",
    "        seed: int = 42,\n",
    "        device: str = None\n",
    "        ) -> 'LLaMAModel':\n",
    "        \n",
    "        if device is None:\n",
    "            device = 'mps' if torch.backends.mps.is_available() else 'cuda' if torch.cuda.is_available() else 'cpu'\n",
    "        print(f'>>> Using device: {device}')\n",
    "        \n",
    "        start = time.time()\n",
    "        model_path = list(Path(ckpt_dir).glob('*.pth'))\n",
    "        assert len(model_path) > 0, 'No model checkpoint provided!'\n",
    "        ckpt_path = model_path[0]\n",
    "        print(f'>>> Loading checkpoint from {ckpt_path}')\n",
    "        checkpoint = torch.load(ckpt_path, map_location='cpu')\n",
    "        print(f'>>> Checkpoint loaded in {time.time() - start:.2f} seconds') \n",
    "        \n",
    "        with open(config_path, 'rb') as f:\n",
    "            config = json.load(f)\n",
    "        \n",
    "        config: LlamaConfig = LlamaConfig(\n",
    "            max_batch_size=max_batch_size,\n",
    "            max_seq_len=max_seq_len,\n",
    "            device=device,\n",
    "            **config\n",
    "        )\n",
    "        print(f'>>> Using config: {config}')\n",
    "        \n",
    "        start = time.time()\n",
    "        tokenizer = SentencePieceProcessor()\n",
    "        tokenizer.load(tokenizer_path)\n",
    "        config.vocab_size = tokenizer.vocab_size()\n",
    "        print(f'>>> Tokenizer loaded in {time.time() - start:.2f} seconds')\n",
    "        \n",
    "        if device == 'cuda':\n",
    "            torch.set_default_tensor_type(torch.cuda.HalfTensor)\n",
    "        elif device == 'mps':\n",
    "            torch.set_default_tensor_type(torch.FloatTensor)\n",
    "        else:\n",
    "            torch.set_default_tensor_type(torch.BFloat16Tensor)\n",
    "            \n",
    "        torch.manual_seed(seed)\n",
    "        \n",
    "        start = time.time()\n",
    "        model = LLaMA(config)\n",
    "        del checkpoint['rope.freqs']\n",
    "        model.load_state_dict(checkpoint['model_state_dict'], strict=True)\n",
    "        print(f'>>> Model loaded in {time.time() - start:.2f} seconds')\n",
    "        \n",
    "        return {'model': model, 'tokenizer': tokenizer, 'config': config}"
   ]
  },
  {
   "cell_type": "code",
   "execution_count": 38,
   "metadata": {},
   "outputs": [],
   "source": [
    "# print(list((Path('../llama-2-7b/').glob('*.pth'))))\n",
    "# llama_dict = LLaMAModel.build(\n",
    "#     ckpt_dir='../llama-2-7b/',\n",
    "#     tokenizer_path='../tokenizer.model',\n",
    "#     config_path='../llama-2-7b/config.json',\n",
    "#     max_seq_len=1024,\n",
    "#     max_batch_size=3,\n",
    "# )\n",
    "# print('All ok!')"
   ]
  },
  {
   "cell_type": "code",
   "execution_count": 39,
   "metadata": {},
   "outputs": [],
   "source": [
    "checkpoint = torch.load('../llama-2-7b/consolidated.00.pth', map_location='cpu')"
   ]
  },
  {
   "cell_type": "code",
   "execution_count": 40,
   "metadata": {},
   "outputs": [],
   "source": [
    "# for k in checkpoint.keys(): print(k)\n",
    "# for name, param in model.state_dict().items():\n",
    "#     print(name)"
   ]
  },
  {
   "cell_type": "code",
   "execution_count": 41,
   "metadata": {},
   "outputs": [],
   "source": [
    "converted = {}"
   ]
  },
  {
   "cell_type": "code",
   "execution_count": 42,
   "metadata": {},
   "outputs": [],
   "source": [
    "converted['embeddings.weight'] = checkpoint['tok_embeddings.weight']\n",
    "converted['rms_norm.scale'] = checkpoint['norm.weight']\n",
    "converted['head.weight'] = checkpoint['output.weight']\n",
    "converted['llama_blocks.llama_0.attention.wq.weight'] = checkpoint['layers.0.attention.wq.weight']\n",
    "converted['llama_blocks.llama_0.attention.wk.weight'] = checkpoint['layers.0.attention.wk.weight']\n",
    "converted['llama_blocks.llama_0.attention.wv.weight'] = checkpoint['layers.0.attention.wv.weight']\n",
    "converted['llama_blocks.llama_0.attention.wo.weight'] = checkpoint['layers.0.attention.wo.weight']\n",
    "converted['llama_blocks.llama_0.ffn.w1.weight'] = checkpoint['layers.0.feed_forward.w1.weight']\n",
    "converted['llama_blocks.llama_0.ffn.w2.weight'] = checkpoint['layers.0.feed_forward.w2.weight']\n",
    "converted['llama_blocks.llama_0.ffn.w3.weight'] = checkpoint['layers.0.feed_forward.w3.weight']\n",
    "converted['llama_blocks.llama_0.attention_norm.scale'] = checkpoint['layers.0.attention_norm.weight']\n",
    "converted['llama_blocks.llama_0.ffn_norm.scale'] = checkpoint['layers.0.ffn_norm.weight']\n",
    "converted['llama_blocks.llama_1.attention.wq.weight'] = checkpoint['layers.1.attention.wq.weight']\n",
    "converted['llama_blocks.llama_1.attention.wk.weight'] = checkpoint['layers.1.attention.wk.weight']\n",
    "converted['llama_blocks.llama_1.attention.wv.weight'] = checkpoint['layers.1.attention.wv.weight']\n",
    "converted['llama_blocks.llama_1.attention.wo.weight'] = checkpoint['layers.1.attention.wo.weight']\n",
    "converted['llama_blocks.llama_1.ffn.w1.weight'] = checkpoint['layers.1.feed_forward.w1.weight']\n",
    "converted['llama_blocks.llama_1.ffn.w2.weight'] = checkpoint['layers.1.feed_forward.w2.weight']\n",
    "converted['llama_blocks.llama_1.ffn.w3.weight'] = checkpoint['layers.1.feed_forward.w3.weight']\n",
    "converted['llama_blocks.llama_1.attention_norm.scale'] = checkpoint['layers.1.attention_norm.weight']\n",
    "converted['llama_blocks.llama_1.ffn_norm.scale'] = checkpoint['layers.1.ffn_norm.weight']\n",
    "converted['llama_blocks.llama_2.attention.wq.weight'] = checkpoint['layers.2.attention.wq.weight']\n",
    "converted['llama_blocks.llama_2.attention.wk.weight'] = checkpoint['layers.2.attention.wk.weight']\n",
    "converted['llama_blocks.llama_2.attention.wv.weight'] = checkpoint['layers.2.attention.wv.weight']\n",
    "converted['llama_blocks.llama_2.attention.wo.weight'] = checkpoint['layers.2.attention.wo.weight']\n",
    "converted['llama_blocks.llama_2.ffn.w1.weight'] = checkpoint['layers.2.feed_forward.w1.weight']\n",
    "converted['llama_blocks.llama_2.ffn.w2.weight'] = checkpoint['layers.2.feed_forward.w2.weight']\n",
    "converted['llama_blocks.llama_2.ffn.w3.weight'] = checkpoint['layers.2.feed_forward.w3.weight']\n",
    "converted['llama_blocks.llama_2.attention_norm.scale'] = checkpoint['layers.2.attention_norm.weight']\n",
    "converted['llama_blocks.llama_2.ffn_norm.scale'] = checkpoint['layers.2.ffn_norm.weight']\n",
    "converted['llama_blocks.llama_3.attention.wq.weight'] = checkpoint['layers.3.attention.wq.weight']\n",
    "converted['llama_blocks.llama_3.attention.wk.weight'] = checkpoint['layers.3.attention.wk.weight']\n",
    "converted['llama_blocks.llama_3.attention.wv.weight'] = checkpoint['layers.3.attention.wv.weight']\n",
    "converted['llama_blocks.llama_3.attention.wo.weight'] = checkpoint['layers.3.attention.wo.weight']\n",
    "converted['llama_blocks.llama_3.ffn.w1.weight'] = checkpoint['layers.3.feed_forward.w1.weight']\n",
    "converted['llama_blocks.llama_3.ffn.w2.weight'] = checkpoint['layers.3.feed_forward.w2.weight']\n",
    "converted['llama_blocks.llama_3.ffn.w3.weight'] = checkpoint['layers.3.feed_forward.w3.weight']\n",
    "converted['llama_blocks.llama_3.attention_norm.scale'] = checkpoint['layers.3.attention_norm.weight']\n",
    "converted['llama_blocks.llama_3.ffn_norm.scale'] = checkpoint['layers.3.ffn_norm.weight']\n",
    "converted['llama_blocks.llama_4.attention.wq.weight'] = checkpoint['layers.4.attention.wq.weight']\n",
    "converted['llama_blocks.llama_4.attention.wk.weight'] = checkpoint['layers.4.attention.wk.weight']\n",
    "converted['llama_blocks.llama_4.attention.wv.weight'] = checkpoint['layers.4.attention.wv.weight']\n",
    "converted['llama_blocks.llama_4.attention.wo.weight'] = checkpoint['layers.4.attention.wo.weight']\n",
    "converted['llama_blocks.llama_4.ffn.w1.weight'] = checkpoint['layers.4.feed_forward.w1.weight']\n",
    "converted['llama_blocks.llama_4.ffn.w2.weight'] = checkpoint['layers.4.feed_forward.w2.weight']\n",
    "converted['llama_blocks.llama_4.ffn.w3.weight'] = checkpoint['layers.4.feed_forward.w3.weight']\n",
    "converted['llama_blocks.llama_4.attention_norm.scale'] = checkpoint['layers.4.attention_norm.weight']\n",
    "converted['llama_blocks.llama_4.ffn_norm.scale'] = checkpoint['layers.4.ffn_norm.weight']\n",
    "converted['llama_blocks.llama_5.attention.wq.weight'] = checkpoint['layers.5.attention.wq.weight']\n",
    "converted['llama_blocks.llama_5.attention.wk.weight'] = checkpoint['layers.5.attention.wk.weight']\n",
    "converted['llama_blocks.llama_5.attention.wv.weight'] = checkpoint['layers.5.attention.wv.weight']\n",
    "converted['llama_blocks.llama_5.attention.wo.weight'] = checkpoint['layers.5.attention.wo.weight']\n",
    "converted['llama_blocks.llama_5.ffn.w1.weight'] = checkpoint['layers.5.feed_forward.w1.weight']\n",
    "converted['llama_blocks.llama_5.ffn.w2.weight'] = checkpoint['layers.5.feed_forward.w2.weight']\n",
    "converted['llama_blocks.llama_5.ffn.w3.weight'] = checkpoint['layers.5.feed_forward.w3.weight']\n",
    "converted['llama_blocks.llama_5.attention_norm.scale'] = checkpoint['layers.5.attention_norm.weight']\n",
    "converted['llama_blocks.llama_5.ffn_norm.scale'] = checkpoint['layers.5.ffn_norm.weight']\n",
    "converted['llama_blocks.llama_6.attention.wq.weight'] = checkpoint['layers.6.attention.wq.weight']\n",
    "converted['llama_blocks.llama_6.attention.wk.weight'] = checkpoint['layers.6.attention.wk.weight']\n",
    "converted['llama_blocks.llama_6.attention.wv.weight'] = checkpoint['layers.6.attention.wv.weight']\n",
    "converted['llama_blocks.llama_6.attention.wo.weight'] = checkpoint['layers.6.attention.wo.weight']\n",
    "converted['llama_blocks.llama_6.ffn.w1.weight'] = checkpoint['layers.6.feed_forward.w1.weight']\n",
    "converted['llama_blocks.llama_6.ffn.w2.weight'] = checkpoint['layers.6.feed_forward.w2.weight']\n",
    "converted['llama_blocks.llama_6.ffn.w3.weight'] = checkpoint['layers.6.feed_forward.w3.weight']\n",
    "converted['llama_blocks.llama_6.attention_norm.scale'] = checkpoint['layers.6.attention_norm.weight']\n",
    "converted['llama_blocks.llama_6.ffn_norm.scale'] = checkpoint['layers.6.ffn_norm.weight']\n",
    "converted['llama_blocks.llama_7.attention.wq.weight'] = checkpoint['layers.7.attention.wq.weight']\n",
    "converted['llama_blocks.llama_7.attention.wk.weight'] = checkpoint['layers.7.attention.wk.weight']\n",
    "converted['llama_blocks.llama_7.attention.wv.weight'] = checkpoint['layers.7.attention.wv.weight']\n",
    "converted['llama_blocks.llama_7.attention.wo.weight'] = checkpoint['layers.7.attention.wo.weight']\n",
    "converted['llama_blocks.llama_7.ffn.w1.weight'] = checkpoint['layers.7.feed_forward.w1.weight']\n",
    "converted['llama_blocks.llama_7.ffn.w2.weight'] = checkpoint['layers.7.feed_forward.w2.weight']\n",
    "converted['llama_blocks.llama_7.ffn.w3.weight'] = checkpoint['layers.7.feed_forward.w3.weight']\n",
    "converted['llama_blocks.llama_7.attention_norm.scale'] = checkpoint['layers.7.attention_norm.weight']\n",
    "converted['llama_blocks.llama_7.ffn_norm.scale'] = checkpoint['layers.7.ffn_norm.weight']\n",
    "converted['llama_blocks.llama_8.attention.wq.weight'] = checkpoint['layers.8.attention.wq.weight']\n",
    "converted['llama_blocks.llama_8.attention.wk.weight'] = checkpoint['layers.8.attention.wk.weight']\n",
    "converted['llama_blocks.llama_8.attention.wv.weight'] = checkpoint['layers.8.attention.wv.weight']\n",
    "converted['llama_blocks.llama_8.attention.wo.weight'] = checkpoint['layers.8.attention.wo.weight']\n",
    "converted['llama_blocks.llama_8.ffn.w1.weight'] = checkpoint['layers.8.feed_forward.w1.weight']\n",
    "converted['llama_blocks.llama_8.ffn.w2.weight'] = checkpoint['layers.8.feed_forward.w2.weight']\n",
    "converted['llama_blocks.llama_8.ffn.w3.weight'] = checkpoint['layers.8.feed_forward.w3.weight']\n",
    "converted['llama_blocks.llama_8.attention_norm.scale'] = checkpoint['layers.8.attention_norm.weight']\n",
    "converted['llama_blocks.llama_8.ffn_norm.scale'] = checkpoint['layers.8.ffn_norm.weight']\n",
    "converted['llama_blocks.llama_9.attention.wq.weight'] = checkpoint['layers.9.attention.wq.weight']\n",
    "converted['llama_blocks.llama_9.attention.wk.weight'] = checkpoint['layers.9.attention.wk.weight']\n",
    "converted['llama_blocks.llama_9.attention.wv.weight'] = checkpoint['layers.9.attention.wv.weight']\n",
    "converted['llama_blocks.llama_9.attention.wo.weight'] = checkpoint['layers.9.attention.wo.weight']\n",
    "converted['llama_blocks.llama_9.ffn.w1.weight'] = checkpoint['layers.9.feed_forward.w1.weight']\n",
    "converted['llama_blocks.llama_9.ffn.w2.weight'] = checkpoint['layers.9.feed_forward.w2.weight']\n",
    "converted['llama_blocks.llama_9.ffn.w3.weight'] = checkpoint['layers.9.feed_forward.w3.weight']\n",
    "converted['llama_blocks.llama_9.attention_norm.scale'] = checkpoint['layers.9.attention_norm.weight']\n",
    "converted['llama_blocks.llama_9.ffn_norm.scale'] = checkpoint['layers.9.ffn_norm.weight']\n",
    "converted['llama_blocks.llama_10.attention.wq.weight'] = checkpoint['layers.10.attention.wq.weight']\n",
    "converted['llama_blocks.llama_10.attention.wk.weight'] = checkpoint['layers.10.attention.wk.weight']\n",
    "converted['llama_blocks.llama_10.attention.wv.weight'] = checkpoint['layers.10.attention.wv.weight']\n",
    "converted['llama_blocks.llama_10.attention.wo.weight'] = checkpoint['layers.10.attention.wo.weight']\n",
    "converted['llama_blocks.llama_10.ffn.w1.weight'] = checkpoint['layers.10.feed_forward.w1.weight']\n",
    "converted['llama_blocks.llama_10.ffn.w2.weight'] = checkpoint['layers.10.feed_forward.w2.weight']\n",
    "converted['llama_blocks.llama_10.ffn.w3.weight'] = checkpoint['layers.10.feed_forward.w3.weight']\n",
    "converted['llama_blocks.llama_10.attention_norm.scale'] = checkpoint['layers.10.attention_norm.weight']\n",
    "converted['llama_blocks.llama_10.ffn_norm.scale'] = checkpoint['layers.10.ffn_norm.weight']\n",
    "converted['llama_blocks.llama_11.attention.wq.weight'] = checkpoint['layers.11.attention.wq.weight']\n",
    "converted['llama_blocks.llama_11.attention.wk.weight'] = checkpoint['layers.11.attention.wk.weight']\n",
    "converted['llama_blocks.llama_11.attention.wv.weight'] = checkpoint['layers.11.attention.wv.weight']\n",
    "converted['llama_blocks.llama_11.attention.wo.weight'] = checkpoint['layers.11.attention.wo.weight']\n",
    "converted['llama_blocks.llama_11.ffn.w1.weight'] = checkpoint['layers.11.feed_forward.w1.weight']\n",
    "converted['llama_blocks.llama_11.ffn.w2.weight'] = checkpoint['layers.11.feed_forward.w2.weight']\n",
    "converted['llama_blocks.llama_11.ffn.w3.weight'] = checkpoint['layers.11.feed_forward.w3.weight']\n",
    "converted['llama_blocks.llama_11.attention_norm.scale'] = checkpoint['layers.11.attention_norm.weight']\n",
    "converted['llama_blocks.llama_11.ffn_norm.scale'] = checkpoint['layers.11.ffn_norm.weight']\n",
    "converted['llama_blocks.llama_12.attention.wq.weight'] = checkpoint['layers.12.attention.wq.weight']\n",
    "converted['llama_blocks.llama_12.attention.wk.weight'] = checkpoint['layers.12.attention.wk.weight']\n",
    "converted['llama_blocks.llama_12.attention.wv.weight'] = checkpoint['layers.12.attention.wv.weight']\n",
    "converted['llama_blocks.llama_12.attention.wo.weight'] = checkpoint['layers.12.attention.wo.weight']\n",
    "converted['llama_blocks.llama_12.ffn.w1.weight'] = checkpoint['layers.12.feed_forward.w1.weight']\n",
    "converted['llama_blocks.llama_12.ffn.w2.weight'] = checkpoint['layers.12.feed_forward.w2.weight']\n",
    "converted['llama_blocks.llama_12.ffn.w3.weight'] = checkpoint['layers.12.feed_forward.w3.weight']\n",
    "converted['llama_blocks.llama_12.attention_norm.scale'] = checkpoint['layers.12.attention_norm.weight']\n",
    "converted['llama_blocks.llama_12.ffn_norm.scale'] = checkpoint['layers.12.ffn_norm.weight']\n",
    "converted['llama_blocks.llama_13.attention.wq.weight'] = checkpoint['layers.13.attention.wq.weight']\n",
    "converted['llama_blocks.llama_13.attention.wk.weight'] = checkpoint['layers.13.attention.wk.weight']\n",
    "converted['llama_blocks.llama_13.attention.wv.weight'] = checkpoint['layers.13.attention.wv.weight']\n",
    "converted['llama_blocks.llama_13.attention.wo.weight'] = checkpoint['layers.13.attention.wo.weight']\n",
    "converted['llama_blocks.llama_13.ffn.w1.weight'] = checkpoint['layers.13.feed_forward.w1.weight']\n",
    "converted['llama_blocks.llama_13.ffn.w2.weight'] = checkpoint['layers.13.feed_forward.w2.weight']\n",
    "converted['llama_blocks.llama_13.ffn.w3.weight'] = checkpoint['layers.13.feed_forward.w3.weight']\n",
    "converted['llama_blocks.llama_13.attention_norm.scale'] = checkpoint['layers.13.attention_norm.weight']\n",
    "converted['llama_blocks.llama_13.ffn_norm.scale'] = checkpoint['layers.13.ffn_norm.weight']\n",
    "converted['llama_blocks.llama_14.attention.wq.weight'] = checkpoint['layers.14.attention.wq.weight']\n",
    "converted['llama_blocks.llama_14.attention.wk.weight'] = checkpoint['layers.14.attention.wk.weight']\n",
    "converted['llama_blocks.llama_14.attention.wv.weight'] = checkpoint['layers.14.attention.wv.weight']\n",
    "converted['llama_blocks.llama_14.attention.wo.weight'] = checkpoint['layers.14.attention.wo.weight']\n",
    "converted['llama_blocks.llama_14.ffn.w1.weight'] = checkpoint['layers.14.feed_forward.w1.weight']\n",
    "converted['llama_blocks.llama_14.ffn.w2.weight'] = checkpoint['layers.14.feed_forward.w2.weight']\n",
    "converted['llama_blocks.llama_14.ffn.w3.weight'] = checkpoint['layers.14.feed_forward.w3.weight']\n",
    "converted['llama_blocks.llama_14.attention_norm.scale'] = checkpoint['layers.14.attention_norm.weight']\n",
    "converted['llama_blocks.llama_14.ffn_norm.scale'] = checkpoint['layers.14.ffn_norm.weight']\n",
    "converted['llama_blocks.llama_15.attention.wq.weight'] = checkpoint['layers.15.attention.wq.weight']\n",
    "converted['llama_blocks.llama_15.attention.wk.weight'] = checkpoint['layers.15.attention.wk.weight']\n",
    "converted['llama_blocks.llama_15.attention.wv.weight'] = checkpoint['layers.15.attention.wv.weight']\n",
    "converted['llama_blocks.llama_15.attention.wo.weight'] = checkpoint['layers.15.attention.wo.weight']\n",
    "converted['llama_blocks.llama_15.ffn.w1.weight'] = checkpoint['layers.15.feed_forward.w1.weight']\n",
    "converted['llama_blocks.llama_15.ffn.w2.weight'] = checkpoint['layers.15.feed_forward.w2.weight']\n",
    "converted['llama_blocks.llama_15.ffn.w3.weight'] = checkpoint['layers.15.feed_forward.w3.weight']\n",
    "converted['llama_blocks.llama_15.attention_norm.scale'] = checkpoint['layers.15.attention_norm.weight']\n",
    "converted['llama_blocks.llama_15.ffn_norm.scale'] = checkpoint['layers.15.ffn_norm.weight']\n",
    "converted['llama_blocks.llama_16.attention.wq.weight'] = checkpoint['layers.16.attention.wq.weight']\n",
    "converted['llama_blocks.llama_16.attention.wk.weight'] = checkpoint['layers.16.attention.wk.weight']\n",
    "converted['llama_blocks.llama_16.attention.wv.weight'] = checkpoint['layers.16.attention.wv.weight']\n",
    "converted['llama_blocks.llama_16.attention.wo.weight'] = checkpoint['layers.16.attention.wo.weight']\n",
    "converted['llama_blocks.llama_16.ffn.w1.weight'] = checkpoint['layers.16.feed_forward.w1.weight']\n",
    "converted['llama_blocks.llama_16.ffn.w2.weight'] = checkpoint['layers.16.feed_forward.w2.weight']\n",
    "converted['llama_blocks.llama_16.ffn.w3.weight'] = checkpoint['layers.16.feed_forward.w3.weight']\n",
    "converted['llama_blocks.llama_16.attention_norm.scale'] = checkpoint['layers.16.attention_norm.weight']\n",
    "converted['llama_blocks.llama_16.ffn_norm.scale'] = checkpoint['layers.16.ffn_norm.weight']\n",
    "converted['llama_blocks.llama_17.attention.wq.weight'] = checkpoint['layers.17.attention.wq.weight']\n",
    "converted['llama_blocks.llama_17.attention.wk.weight'] = checkpoint['layers.17.attention.wk.weight']\n",
    "converted['llama_blocks.llama_17.attention.wv.weight'] = checkpoint['layers.17.attention.wv.weight']\n",
    "converted['llama_blocks.llama_17.attention.wo.weight'] = checkpoint['layers.17.attention.wo.weight']\n",
    "converted['llama_blocks.llama_17.ffn.w1.weight'] = checkpoint['layers.17.feed_forward.w1.weight']\n",
    "converted['llama_blocks.llama_17.ffn.w2.weight'] = checkpoint['layers.17.feed_forward.w2.weight']\n",
    "converted['llama_blocks.llama_17.ffn.w3.weight'] = checkpoint['layers.17.feed_forward.w3.weight']\n",
    "converted['llama_blocks.llama_17.attention_norm.scale'] = checkpoint['layers.17.attention_norm.weight']\n",
    "converted['llama_blocks.llama_17.ffn_norm.scale'] = checkpoint['layers.17.ffn_norm.weight']\n",
    "converted['llama_blocks.llama_18.attention.wq.weight'] = checkpoint['layers.18.attention.wq.weight']\n",
    "converted['llama_blocks.llama_18.attention.wk.weight'] = checkpoint['layers.18.attention.wk.weight']\n",
    "converted['llama_blocks.llama_18.attention.wv.weight'] = checkpoint['layers.18.attention.wv.weight']\n",
    "converted['llama_blocks.llama_18.attention.wo.weight'] = checkpoint['layers.18.attention.wo.weight']\n",
    "converted['llama_blocks.llama_18.ffn.w1.weight'] = checkpoint['layers.18.feed_forward.w1.weight']\n",
    "converted['llama_blocks.llama_18.ffn.w2.weight'] = checkpoint['layers.18.feed_forward.w2.weight']\n",
    "converted['llama_blocks.llama_18.ffn.w3.weight'] = checkpoint['layers.18.feed_forward.w3.weight']\n",
    "converted['llama_blocks.llama_18.attention_norm.scale'] = checkpoint['layers.18.attention_norm.weight']\n",
    "converted['llama_blocks.llama_18.ffn_norm.scale'] = checkpoint['layers.18.ffn_norm.weight']\n",
    "converted['llama_blocks.llama_19.attention.wq.weight'] = checkpoint['layers.19.attention.wq.weight']\n",
    "converted['llama_blocks.llama_19.attention.wk.weight'] = checkpoint['layers.19.attention.wk.weight']\n",
    "converted['llama_blocks.llama_19.attention.wv.weight'] = checkpoint['layers.19.attention.wv.weight']\n",
    "converted['llama_blocks.llama_19.attention.wo.weight'] = checkpoint['layers.19.attention.wo.weight']\n",
    "converted['llama_blocks.llama_19.ffn.w1.weight'] = checkpoint['layers.19.feed_forward.w1.weight']\n",
    "converted['llama_blocks.llama_19.ffn.w2.weight'] = checkpoint['layers.19.feed_forward.w2.weight']\n",
    "converted['llama_blocks.llama_19.ffn.w3.weight'] = checkpoint['layers.19.feed_forward.w3.weight']\n",
    "converted['llama_blocks.llama_19.attention_norm.scale'] = checkpoint['layers.19.attention_norm.weight']\n",
    "converted['llama_blocks.llama_19.ffn_norm.scale'] = checkpoint['layers.19.ffn_norm.weight']\n",
    "converted['llama_blocks.llama_20.attention.wq.weight'] = checkpoint['layers.20.attention.wq.weight']\n",
    "converted['llama_blocks.llama_20.attention.wk.weight'] = checkpoint['layers.20.attention.wk.weight']\n",
    "converted['llama_blocks.llama_20.attention.wv.weight'] = checkpoint['layers.20.attention.wv.weight']\n",
    "converted['llama_blocks.llama_20.attention.wo.weight'] = checkpoint['layers.20.attention.wo.weight']\n",
    "converted['llama_blocks.llama_20.ffn.w1.weight'] = checkpoint['layers.20.feed_forward.w1.weight']\n",
    "converted['llama_blocks.llama_20.ffn.w2.weight'] = checkpoint['layers.20.feed_forward.w2.weight']\n",
    "converted['llama_blocks.llama_20.ffn.w3.weight'] = checkpoint['layers.20.feed_forward.w3.weight']\n",
    "converted['llama_blocks.llama_20.attention_norm.scale'] = checkpoint['layers.20.attention_norm.weight']\n",
    "converted['llama_blocks.llama_20.ffn_norm.scale'] = checkpoint['layers.20.ffn_norm.weight']\n",
    "converted['llama_blocks.llama_21.attention.wq.weight'] = checkpoint['layers.21.attention.wq.weight']\n",
    "converted['llama_blocks.llama_21.attention.wk.weight'] = checkpoint['layers.21.attention.wk.weight']\n",
    "converted['llama_blocks.llama_21.attention.wv.weight'] = checkpoint['layers.21.attention.wv.weight']\n",
    "converted['llama_blocks.llama_21.attention.wo.weight'] = checkpoint['layers.21.attention.wo.weight']\n",
    "converted['llama_blocks.llama_21.ffn.w1.weight'] = checkpoint['layers.21.feed_forward.w1.weight']\n",
    "converted['llama_blocks.llama_21.ffn.w2.weight'] = checkpoint['layers.21.feed_forward.w2.weight']\n",
    "converted['llama_blocks.llama_21.ffn.w3.weight'] = checkpoint['layers.21.feed_forward.w3.weight']\n",
    "converted['llama_blocks.llama_21.attention_norm.scale'] = checkpoint['layers.21.attention_norm.weight']\n",
    "converted['llama_blocks.llama_21.ffn_norm.scale'] = checkpoint['layers.21.ffn_norm.weight']\n",
    "converted['llama_blocks.llama_22.attention.wq.weight'] = checkpoint['layers.22.attention.wq.weight']\n",
    "converted['llama_blocks.llama_22.attention.wk.weight'] = checkpoint['layers.22.attention.wk.weight']\n",
    "converted['llama_blocks.llama_22.attention.wv.weight'] = checkpoint['layers.22.attention.wv.weight']\n",
    "converted['llama_blocks.llama_22.attention.wo.weight'] = checkpoint['layers.22.attention.wo.weight']\n",
    "converted['llama_blocks.llama_22.ffn.w1.weight'] = checkpoint['layers.22.feed_forward.w1.weight']\n",
    "converted['llama_blocks.llama_22.ffn.w2.weight'] = checkpoint['layers.22.feed_forward.w2.weight']\n",
    "converted['llama_blocks.llama_22.ffn.w3.weight'] = checkpoint['layers.22.feed_forward.w3.weight']\n",
    "converted['llama_blocks.llama_22.attention_norm.scale'] = checkpoint['layers.22.attention_norm.weight']\n",
    "converted['llama_blocks.llama_22.ffn_norm.scale'] = checkpoint['layers.22.ffn_norm.weight']\n",
    "converted['llama_blocks.llama_23.attention.wq.weight'] = checkpoint['layers.23.attention.wq.weight']\n",
    "converted['llama_blocks.llama_23.attention.wk.weight'] = checkpoint['layers.23.attention.wk.weight']\n",
    "converted['llama_blocks.llama_23.attention.wv.weight'] = checkpoint['layers.23.attention.wv.weight']\n",
    "converted['llama_blocks.llama_23.attention.wo.weight'] = checkpoint['layers.23.attention.wo.weight']\n",
    "converted['llama_blocks.llama_23.ffn.w1.weight'] = checkpoint['layers.23.feed_forward.w1.weight']\n",
    "converted['llama_blocks.llama_23.ffn.w2.weight'] = checkpoint['layers.23.feed_forward.w2.weight']\n",
    "converted['llama_blocks.llama_23.ffn.w3.weight'] = checkpoint['layers.23.feed_forward.w3.weight']\n",
    "converted['llama_blocks.llama_23.attention_norm.scale'] = checkpoint['layers.23.attention_norm.weight']\n",
    "converted['llama_blocks.llama_23.ffn_norm.scale'] = checkpoint['layers.23.ffn_norm.weight']\n",
    "converted['llama_blocks.llama_24.attention.wq.weight'] = checkpoint['layers.24.attention.wq.weight']\n",
    "converted['llama_blocks.llama_24.attention.wk.weight'] = checkpoint['layers.24.attention.wk.weight']\n",
    "converted['llama_blocks.llama_24.attention.wv.weight'] = checkpoint['layers.24.attention.wv.weight']\n",
    "converted['llama_blocks.llama_24.attention.wo.weight'] = checkpoint['layers.24.attention.wo.weight']\n",
    "converted['llama_blocks.llama_24.ffn.w1.weight'] = checkpoint['layers.24.feed_forward.w1.weight']\n",
    "converted['llama_blocks.llama_24.ffn.w2.weight'] = checkpoint['layers.24.feed_forward.w2.weight']\n",
    "converted['llama_blocks.llama_24.ffn.w3.weight'] = checkpoint['layers.24.feed_forward.w3.weight']\n",
    "converted['llama_blocks.llama_24.attention_norm.scale'] = checkpoint['layers.24.attention_norm.weight']\n",
    "converted['llama_blocks.llama_24.ffn_norm.scale'] = checkpoint['layers.24.ffn_norm.weight']\n",
    "converted['llama_blocks.llama_25.attention.wq.weight'] = checkpoint['layers.25.attention.wq.weight']\n",
    "converted['llama_blocks.llama_25.attention.wk.weight'] = checkpoint['layers.25.attention.wk.weight']\n",
    "converted['llama_blocks.llama_25.attention.wv.weight'] = checkpoint['layers.25.attention.wv.weight']\n",
    "converted['llama_blocks.llama_25.attention.wo.weight'] = checkpoint['layers.25.attention.wo.weight']\n",
    "converted['llama_blocks.llama_25.ffn.w1.weight'] = checkpoint['layers.25.feed_forward.w1.weight']\n",
    "converted['llama_blocks.llama_25.ffn.w2.weight'] = checkpoint['layers.25.feed_forward.w2.weight']\n",
    "converted['llama_blocks.llama_25.ffn.w3.weight'] = checkpoint['layers.25.feed_forward.w3.weight']\n",
    "converted['llama_blocks.llama_25.attention_norm.scale'] = checkpoint['layers.25.attention_norm.weight']\n",
    "converted['llama_blocks.llama_25.ffn_norm.scale'] = checkpoint['layers.25.ffn_norm.weight']\n",
    "converted['llama_blocks.llama_26.attention.wq.weight'] = checkpoint['layers.26.attention.wq.weight']\n",
    "converted['llama_blocks.llama_26.attention.wk.weight'] = checkpoint['layers.26.attention.wk.weight']\n",
    "converted['llama_blocks.llama_26.attention.wv.weight'] = checkpoint['layers.26.attention.wv.weight']\n",
    "converted['llama_blocks.llama_26.attention.wo.weight'] = checkpoint['layers.26.attention.wo.weight']\n",
    "converted['llama_blocks.llama_26.ffn.w1.weight'] = checkpoint['layers.26.feed_forward.w1.weight']\n",
    "converted['llama_blocks.llama_26.ffn.w2.weight'] = checkpoint['layers.26.feed_forward.w2.weight']\n",
    "converted['llama_blocks.llama_26.ffn.w3.weight'] = checkpoint['layers.26.feed_forward.w3.weight']\n",
    "converted['llama_blocks.llama_26.attention_norm.scale'] = checkpoint['layers.26.attention_norm.weight']\n",
    "converted['llama_blocks.llama_26.ffn_norm.scale'] = checkpoint['layers.26.ffn_norm.weight']\n",
    "converted['llama_blocks.llama_27.attention.wq.weight'] = checkpoint['layers.27.attention.wq.weight']\n",
    "converted['llama_blocks.llama_27.attention.wk.weight'] = checkpoint['layers.27.attention.wk.weight']\n",
    "converted['llama_blocks.llama_27.attention.wv.weight'] = checkpoint['layers.27.attention.wv.weight']\n",
    "converted['llama_blocks.llama_27.attention.wo.weight'] = checkpoint['layers.27.attention.wo.weight']\n",
    "converted['llama_blocks.llama_27.ffn.w1.weight'] = checkpoint['layers.27.feed_forward.w1.weight']\n",
    "converted['llama_blocks.llama_27.ffn.w2.weight'] = checkpoint['layers.27.feed_forward.w2.weight']\n",
    "converted['llama_blocks.llama_27.ffn.w3.weight'] = checkpoint['layers.27.feed_forward.w3.weight']\n",
    "converted['llama_blocks.llama_27.attention_norm.scale'] = checkpoint['layers.27.attention_norm.weight']\n",
    "converted['llama_blocks.llama_27.ffn_norm.scale'] = checkpoint['layers.27.ffn_norm.weight']\n",
    "converted['llama_blocks.llama_28.attention.wq.weight'] = checkpoint['layers.28.attention.wq.weight']\n",
    "converted['llama_blocks.llama_28.attention.wk.weight'] = checkpoint['layers.28.attention.wk.weight']\n",
    "converted['llama_blocks.llama_28.attention.wv.weight'] = checkpoint['layers.28.attention.wv.weight']\n",
    "converted['llama_blocks.llama_28.attention.wo.weight'] = checkpoint['layers.28.attention.wo.weight']\n",
    "converted['llama_blocks.llama_28.ffn.w1.weight'] = checkpoint['layers.28.feed_forward.w1.weight']\n",
    "converted['llama_blocks.llama_28.ffn.w2.weight'] = checkpoint['layers.28.feed_forward.w2.weight']\n",
    "converted['llama_blocks.llama_28.ffn.w3.weight'] = checkpoint['layers.28.feed_forward.w3.weight']\n",
    "converted['llama_blocks.llama_28.attention_norm.scale'] = checkpoint['layers.28.attention_norm.weight']\n",
    "converted['llama_blocks.llama_28.ffn_norm.scale'] = checkpoint['layers.28.ffn_norm.weight']\n",
    "converted['llama_blocks.llama_29.attention.wq.weight'] = checkpoint['layers.29.attention.wq.weight']\n",
    "converted['llama_blocks.llama_29.attention.wk.weight'] = checkpoint['layers.29.attention.wk.weight']\n",
    "converted['llama_blocks.llama_29.attention.wv.weight'] = checkpoint['layers.29.attention.wv.weight']\n",
    "converted['llama_blocks.llama_29.attention.wo.weight'] = checkpoint['layers.29.attention.wo.weight']\n",
    "converted['llama_blocks.llama_29.ffn.w1.weight'] = checkpoint['layers.29.feed_forward.w1.weight']\n",
    "converted['llama_blocks.llama_29.ffn.w2.weight'] = checkpoint['layers.29.feed_forward.w2.weight']\n",
    "converted['llama_blocks.llama_29.ffn.w3.weight'] = checkpoint['layers.29.feed_forward.w3.weight']\n",
    "converted['llama_blocks.llama_29.attention_norm.scale'] = checkpoint['layers.29.attention_norm.weight']\n",
    "converted['llama_blocks.llama_29.ffn_norm.scale'] = checkpoint['layers.29.ffn_norm.weight']\n",
    "converted['llama_blocks.llama_30.attention.wq.weight'] = checkpoint['layers.30.attention.wq.weight']\n",
    "converted['llama_blocks.llama_30.attention.wk.weight'] = checkpoint['layers.30.attention.wk.weight']\n",
    "converted['llama_blocks.llama_30.attention.wv.weight'] = checkpoint['layers.30.attention.wv.weight']\n",
    "converted['llama_blocks.llama_30.attention.wo.weight'] = checkpoint['layers.30.attention.wo.weight']\n",
    "converted['llama_blocks.llama_30.ffn.w1.weight'] = checkpoint['layers.30.feed_forward.w1.weight']\n",
    "converted['llama_blocks.llama_30.ffn.w2.weight'] = checkpoint['layers.30.feed_forward.w2.weight']\n",
    "converted['llama_blocks.llama_30.ffn.w3.weight'] = checkpoint['layers.30.feed_forward.w3.weight']\n",
    "converted['llama_blocks.llama_30.attention_norm.scale'] = checkpoint['layers.30.attention_norm.weight']\n",
    "converted['llama_blocks.llama_30.ffn_norm.scale'] = checkpoint['layers.30.ffn_norm.weight']\n",
    "converted['llama_blocks.llama_31.attention.wq.weight'] = checkpoint['layers.31.attention.wq.weight']\n",
    "converted['llama_blocks.llama_31.attention.wk.weight'] = checkpoint['layers.31.attention.wk.weight']\n",
    "converted['llama_blocks.llama_31.attention.wv.weight'] = checkpoint['layers.31.attention.wv.weight']\n",
    "converted['llama_blocks.llama_31.attention.wo.weight'] = checkpoint['layers.31.attention.wo.weight']\n",
    "converted['llama_blocks.llama_31.ffn.w1.weight'] = checkpoint['layers.31.feed_forward.w1.weight']\n",
    "converted['llama_blocks.llama_31.ffn.w2.weight'] = checkpoint['layers.31.feed_forward.w2.weight']\n",
    "converted['llama_blocks.llama_31.ffn.w3.weight'] = checkpoint['layers.31.feed_forward.w3.weight']\n",
    "converted['llama_blocks.llama_31.attention_norm.scale'] = checkpoint['layers.31.attention_norm.weight']\n",
    "converted['llama_blocks.llama_31.ffn_norm.scale'] = checkpoint['layers.31.ffn_norm.weight']"
   ]
  },
  {
   "cell_type": "code",
   "execution_count": 43,
   "metadata": {},
   "outputs": [
    {
     "data": {
      "text/plain": [
       "<All keys matched successfully>"
      ]
     },
     "execution_count": 43,
     "metadata": {},
     "output_type": "execute_result"
    },
    {
     "ename": "",
     "evalue": "",
     "output_type": "error",
     "traceback": [
      "\u001b[1;31mThe Kernel crashed while executing code in the the current cell or a previous cell. Please review the code in the cell(s) to identify a possible cause of the failure. Click <a href='https://aka.ms/vscodeJupyterKernelCrash'>here</a> for more info. View Jupyter <a href='command:jupyter.viewOutput'>log</a> for further details."
     ]
    }
   ],
   "source": [
    "model.load_state_dict(converted)"
   ]
  },
  {
   "cell_type": "code",
   "execution_count": null,
   "metadata": {},
   "outputs": [],
   "source": []
  }
 ],
 "metadata": {
  "kernelspec": {
   "display_name": "Python 3 (ipykernel)",
   "language": "python",
   "name": "python3"
  },
  "language_info": {
   "codemirror_mode": {
    "name": "ipython",
    "version": 3
   },
   "file_extension": ".py",
   "mimetype": "text/x-python",
   "name": "python",
   "nbconvert_exporter": "python",
   "pygments_lexer": "ipython3",
   "version": "3.11.5"
  }
 },
 "nbformat": 4,
 "nbformat_minor": 4
}
